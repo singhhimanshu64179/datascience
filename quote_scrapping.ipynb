{
 "cells": [
  {
   "cell_type": "code",
   "execution_count": 3,
   "id": "9a364b92-3168-437e-abfe-18bfab20ee01",
   "metadata": {},
   "outputs": [],
   "source": [
    "import requests"
   ]
  },
  {
   "cell_type": "code",
   "execution_count": 4,
   "id": "7c61143e-3b37-4084-8d75-d8415e57e66e",
   "metadata": {},
   "outputs": [],
   "source": [
    "from bs4 import BeautifulSoup"
   ]
  },
  {
   "cell_type": "code",
   "execution_count": 5,
   "id": "78676f0b-6e13-4f39-bd0c-6c04175efa53",
   "metadata": {},
   "outputs": [],
   "source": [
    "from csv import writer"
   ]
  },
  {
   "cell_type": "code",
   "execution_count": 6,
   "id": "723bfcf4-b2b0-418a-aaf3-3a993296d742",
   "metadata": {},
   "outputs": [],
   "source": [
    "from time import sleep\n",
    "from random import choice"
   ]
  },
  {
   "cell_type": "code",
   "execution_count": 7,
   "id": "868546f8-e8f4-417b-a5e0-7c4835e9b8e7",
   "metadata": {},
   "outputs": [],
   "source": [
    "# list to store scraped data\n",
    "all_quotes = []"
   ]
  },
  {
   "cell_type": "code",
   "execution_count": 8,
   "id": "b62c952c-32e5-40e2-ae5d-c20cc9c9bf71",
   "metadata": {},
   "outputs": [],
   "source": [
    "# this part of the url is constant\n",
    "base_url = \"http://quotes.toscrape.com/\""
   ]
  },
  {
   "cell_type": "code",
   "execution_count": 9,
   "id": "9e1359b3-5f27-4628-ae79-9f7212378089",
   "metadata": {},
   "outputs": [],
   "source": [
    "# this part of the url will keep changing\n",
    "url = \"/page/1\""
   ]
  },
  {
   "cell_type": "code",
   "execution_count": 13,
   "id": "e0cd0642-c04b-4509-a75e-5e2462b191be",
   "metadata": {},
   "outputs": [
    {
     "name": "stdout",
     "output_type": "stream",
     "text": [
      "Here's a quote:  \n",
      "“It is better to be hated for what you are than to be loved for what you are not.”\n"
     ]
    }
   ],
   "source": [
    "while url:\n",
    "  \n",
    "    # concatenating both urls\n",
    "    # making request\n",
    "    res = requests.get(f\"{base_url}{url}\")\n",
    "    print(f\"Now Scraping{base_url}{url}\")\n",
    "    soup = BeautifulSoup(res.text, \"html.parser\")\n",
    "\n",
    "    # extracting all elements\n",
    "    quotes = soup.find_all(class_=\"quote\")\n",
    "\n",
    "    for quote in quotes:\n",
    "        all_quotes.append({\n",
    "            \"text\": quote.find(class_=\"text\").get_text(),\n",
    "            \"author\": quote.find(class_=\"author\").get_text(),\n",
    "            \"bio-link\": quote.find(\"a\")[\"href\"]\n",
    "        })\n",
    "    next_btn = soup.find(_class=\"next\")\n",
    "    url = next_btn.find(\"a\")[\"href\"] if next_btn else None\n",
    "    sleep(2)\n",
    "\n",
    "quote = choice(all_quotes)\n",
    "remaining_guesses = 4\n",
    "print(\"Here's a quote:  \")\n",
    "print(quote[\"text\"])\n"
   ]
  },
  {
   "cell_type": "code",
   "execution_count": 14,
   "id": "bc1ce77d-21c2-4569-b8f6-a11db1d63dd2",
   "metadata": {},
   "outputs": [
    {
     "name": "stdin",
     "output_type": "stream",
     "text": [
      "Who said this quote? Guesses remaining 4 gffff\n"
     ]
    },
    {
     "name": "stdout",
     "output_type": "stream",
     "text": [
      "Here's a hint: The author was born on November 22, 1869in Paris, France\n"
     ]
    },
    {
     "name": "stdin",
     "output_type": "stream",
     "text": [
      "Who said this quote? Guesses remaining 3 andre gide\n"
     ]
    },
    {
     "name": "stdout",
     "output_type": "stream",
     "text": [
      "Here's a hint: The author's first name starts with: A\n"
     ]
    },
    {
     "name": "stdin",
     "output_type": "stream",
     "text": [
      "Who said this quote? Guesses remaining 2 Andre gide\n"
     ]
    },
    {
     "name": "stdout",
     "output_type": "stream",
     "text": [
      "Here's a hint: The author's last name starts with: G\n"
     ]
    },
    {
     "name": "stdin",
     "output_type": "stream",
     "text": [
      "Who said this quote? Guesses remaining 1 Andre Gide\n"
     ]
    },
    {
     "name": "stdout",
     "output_type": "stream",
     "text": [
      "Sorry, you ran out of guesses. The answer was André Gide\n"
     ]
    }
   ],
   "source": [
    "guess = ''\n",
    "while guess.lower() != quote[\"author\"].lower() and remaining_guesses > 0:\n",
    "    guess = input(\n",
    "        f\"Who said this quote? Guesses remaining {remaining_guesses}\")\n",
    "    \n",
    "    if guess == quote[\"author\"]:\n",
    "        print(\"CONGRATULATIONS!!! YOU GOT IT RIGHT\")\n",
    "        break\n",
    "    remaining_guesses -= 1\n",
    "    \n",
    "    if remaining_guesses == 3:\n",
    "        res = requests.get(f\"{base_url}{quote['bio-link']}\")\n",
    "        soup = BeautifulSoup(res.text, \"html.parser\")\n",
    "        birth_date = soup.find(class_=\"author-born-date\").get_text()\n",
    "        birth_place = soup.find(class_=\"author-born-location\").get_text()\n",
    "        print(\n",
    "            f\"Here's a hint: The author was born on {birth_date}{birth_place}\")\n",
    "    \n",
    "    elif remaining_guesses == 2:\n",
    "        print(\n",
    "            f\"Here's a hint: The author's first name starts with: {quote['author'][0]}\")\n",
    "    \n",
    "    elif remaining_guesses == 1:\n",
    "        last_initial = quote[\"author\"].split(\" \")[1][0]\n",
    "        print(\n",
    "            f\"Here's a hint: The author's last name starts with: {last_initial}\")\n",
    "    \n",
    "    else:\n",
    "        print(\n",
    "            f\"Sorry, you ran out of guesses. The answer was {quote['author']}\")"
   ]
  },
  {
   "cell_type": "code",
   "execution_count": null,
   "id": "1cb68217-5d01-4595-a953-9b5d1a504b33",
   "metadata": {},
   "outputs": [],
   "source": []
  },
  {
   "cell_type": "code",
   "execution_count": null,
   "id": "0bf9d063-6f7a-4a8d-8efa-584c96198916",
   "metadata": {},
   "outputs": [],
   "source": []
  },
  {
   "cell_type": "code",
   "execution_count": null,
   "id": "6513e1d8-2fc3-4dc6-bd98-51ba0d38c630",
   "metadata": {},
   "outputs": [],
   "source": []
  }
 ],
 "metadata": {
  "kernelspec": {
   "display_name": "Python [conda env:base] *",
   "language": "python",
   "name": "conda-base-py"
  },
  "language_info": {
   "codemirror_mode": {
    "name": "ipython",
    "version": 3
   },
   "file_extension": ".py",
   "mimetype": "text/x-python",
   "name": "python",
   "nbconvert_exporter": "python",
   "pygments_lexer": "ipython3",
   "version": "3.12.7"
  }
 },
 "nbformat": 4,
 "nbformat_minor": 5
}
